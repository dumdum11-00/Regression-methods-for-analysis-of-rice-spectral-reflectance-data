{
 "cells": [
  {
   "cell_type": "code",
   "execution_count": 1,
   "id": "1a215d99",
   "metadata": {},
   "outputs": [],
   "source": [
    "import pandas as pd\n",
    "import numpy as np\n",
    "from sklearn.preprocessing import StandardScaler\n",
    "from sklearn.metrics import mean_squared_error, r2_score\n",
    "from sklearn.svm import SVR\n",
    "from sklearn.model_selection import train_test_split\n",
    "from sklearn.model_selection import GridSearchCV\n",
    "\n"
   ]
  },
  {
   "cell_type": "code",
   "execution_count": 2,
   "id": "f3761692",
   "metadata": {},
   "outputs": [],
   "source": [
    "from datetime import datetime\n",
    "\n",
    "def log(msg):\n",
    "    f = open(\"log.txt\", \"a\")\n",
    "    f.write(\"\\n\")\n",
    "    f.write(\"==============================================\")\n",
    "    f.write(\"\\n\")\n",
    "    for line in msg:\n",
    "        f.write(line)\n",
    "        f.write(\"\\n\")\n",
    "    f.close()\n",
    "    \n",
    "log_data= [datetime.now().strftime(\"%d/%m/%Y, %H:%M:%S\")]\n",
    "log_data.append(\"SVR\")\n",
    "log_data.append(\"PCA\")\n"
   ]
  },
  {
   "cell_type": "code",
   "execution_count": 3,
   "id": "7d31ed00",
   "metadata": {},
   "outputs": [
    {
     "name": "stdout",
     "output_type": "stream",
     "text": [
      "   P conc. (mg/kg)  K conc. (mg/kg)  Chlorophyll-a       4       5       6  \\\n",
      "0           3620.0          58360.0           44.0  0.9707  0.9546  0.9384   \n",
      "1           3506.0          51290.0           42.1  1.3097  1.2930  1.2722   \n",
      "2           3036.0          51420.0           39.4  1.9541  1.9210  1.8844   \n",
      "3           4576.0          43325.0           47.9  1.4033  1.3937  1.3833   \n",
      "4           4012.0          40245.0           48.6  0.7786  0.7727  0.7686   \n",
      "5           4619.0          40521.0           45.1  2.0162  1.9847  1.9507   \n",
      "6           4514.0          45712.0           41.6  1.3164  1.2872  1.2557   \n",
      "7           5455.0          41235.0           45.6  1.0908  1.0700  1.0465   \n",
      "8           4304.0          44213.0           42.6  1.2809  1.2643  1.2464   \n",
      "9           4919.0          35530.0           39.9  1.9447  1.9289  1.9158   \n",
      "\n",
      "        7       8       9      10  ...    2144     2145     2146     2147  \\\n",
      "0  0.9260  0.9167  0.9099  0.9091  ...  8.8199   9.4612   9.9928  10.3807   \n",
      "1  1.2524  1.2341  1.2178  1.2069  ...  0.0000   0.0000   0.0000   0.0000   \n",
      "2  1.8523  1.8266  1.8103  1.7965  ...  5.4921   5.1623   4.8005   4.4066   \n",
      "3  1.3735  1.3650  1.3584  1.3551  ...  0.0000   0.0000   0.0000   0.0000   \n",
      "4  0.7614  0.7543  0.7506  0.7459  ...  0.0000   0.0000   0.0000   0.0000   \n",
      "5  1.9235  1.9015  1.8839  1.8726  ...  0.0000   0.0000   0.0000   0.0000   \n",
      "6  1.2305  1.2111  1.1985  1.1902  ...  0.0000   0.0000   0.0000   0.0410   \n",
      "7  1.0284  1.0138  1.0015  0.9935  ...  0.0000   0.0000   0.0000   0.0000   \n",
      "8  1.2316  1.2194  1.2095  1.2058  ...  5.0345   4.9413   4.7571   4.4476   \n",
      "9  1.8998  1.8856  1.8781  1.8695  ...  9.9791  10.1729  10.3879  10.6375   \n",
      "\n",
      "      2148     2149     2150     2151     2152     2153  \n",
      "0  10.6658  10.8669  10.9976  11.0713  11.1017  11.0985  \n",
      "1   0.0000   0.0000   0.0000   0.0000   0.0000   0.0000  \n",
      "2   3.9808   3.5229   3.0329   2.5110   1.9570   1.3468  \n",
      "3   0.0000   0.0000   0.0000   0.0000   0.0000   0.0000  \n",
      "4   0.0000   0.0000   0.0000   0.0000   0.0000   0.0000  \n",
      "5   0.0000   0.0000   0.0000   0.0000   0.0000   0.0000  \n",
      "6   0.0732   0.0719   0.0508   0.0234   0.0032   0.0000  \n",
      "7   0.0000   0.0000   0.0000   0.0000   0.0000   0.0000  \n",
      "8   4.0539   3.5948   3.0838   2.5344   1.9602   1.3468  \n",
      "9  10.9342  11.2568  11.5814  11.8839  12.1405  12.3332  \n",
      "\n",
      "[10 rows x 2153 columns]\n"
     ]
    }
   ],
   "source": [
    "df = pd.read_csv('processed_data.csv')\n",
    "print(df.head(10))"
   ]
  },
  {
   "cell_type": "code",
   "execution_count": 4,
   "id": "23530d54",
   "metadata": {},
   "outputs": [
    {
     "name": "stdout",
     "output_type": "stream",
     "text": [
      "          4       5       6       7       8       9      10      11      12  \\\n",
      "0    0.9707  0.9546  0.9384  0.9260  0.9167  0.9099  0.9091  0.9135  0.9226   \n",
      "1    1.3097  1.2930  1.2722  1.2524  1.2341  1.2178  1.2069  1.2011  1.2002   \n",
      "2    1.9541  1.9210  1.8844  1.8523  1.8266  1.8103  1.7965  1.7856  1.7809   \n",
      "3    1.4033  1.3937  1.3833  1.3735  1.3650  1.3584  1.3551  1.3545  1.3548   \n",
      "4    0.7786  0.7727  0.7686  0.7614  0.7543  0.7506  0.7459  0.7412  0.7405   \n",
      "..      ...     ...     ...     ...     ...     ...     ...     ...     ...   \n",
      "163  2.8373  2.8121  2.7745  2.7324  2.6934  2.6653  2.6464  2.6346  2.6231   \n",
      "164  3.3757  3.3207  3.2677  3.2207  3.1806  3.1482  3.1351  3.1338  3.1205   \n",
      "165  1.1296  1.0905  1.0720  1.0474  1.0316  1.0402  1.0498  1.0567  1.0534   \n",
      "166  2.6838  2.6354  2.5857  2.5579  2.5366  2.5048  2.5052  2.5289  2.5429   \n",
      "167  2.5029  2.4714  2.4522  2.4273  2.4044  2.3904  2.3790  2.3722  2.3832   \n",
      "\n",
      "         13  ...     2144     2145     2146     2147      2148      2149  \\\n",
      "0    0.9284  ...   8.8199   9.4612   9.9928  10.3807   10.6658   10.8669   \n",
      "1    1.1938  ...   0.0000   0.0000   0.0000   0.0000    0.0000    0.0000   \n",
      "2    1.7700  ...   5.4921   5.1623   4.8005   4.4066    3.9808    3.5229   \n",
      "3    1.3550  ...   0.0000   0.0000   0.0000   0.0000    0.0000    0.0000   \n",
      "4    0.7399  ...   0.0000   0.0000   0.0000   0.0000    0.0000    0.0000   \n",
      "..      ...  ...      ...      ...      ...      ...       ...       ...   \n",
      "163  2.6184  ...  57.0378  72.4500  85.9091  96.6115  105.6404  113.3786   \n",
      "164  3.1039  ...   0.0000   0.0000   7.0868  15.6501   26.0199   37.6582   \n",
      "165  1.0425  ...   0.0000   0.0000   0.0000   0.0000    0.0000    0.0000   \n",
      "166  2.5556  ...  21.3081  31.3768  38.6397  41.5883   42.0282   40.7891   \n",
      "167  2.3721  ...   0.0000   0.0000   0.0000   0.0000    0.0000    0.0000   \n",
      "\n",
      "         2150      2151      2152      2153  \n",
      "0     10.9976   11.0713   11.1017   11.0985  \n",
      "1      0.0000    0.0000    0.0000    0.0000  \n",
      "2      3.0329    2.5110    1.9570    1.3468  \n",
      "3      0.0000    0.0000    0.0000    0.0000  \n",
      "4      0.0000    0.0000    0.0000    0.0000  \n",
      "..        ...       ...       ...       ...  \n",
      "163  120.0662  125.9437  131.2511  136.1629  \n",
      "164   49.7206   61.3627   71.7400   80.1842  \n",
      "165    0.0000    0.0000    0.0000    0.0000  \n",
      "166   38.4719   35.6774   33.0063   30.8816  \n",
      "167    0.0000    0.0000    5.4648   13.8303  \n",
      "\n",
      "[168 rows x 2150 columns]\n"
     ]
    }
   ],
   "source": [
    "scaler = StandardScaler()\n",
    "\n",
    "X = df.iloc[: , 3:]\n",
    "\n",
    "print(X)\n",
    "\n",
    "Y = df['Chlorophyll-a']\n",
    "Y1 = df['P conc. (mg/kg)']\n",
    "Y2 = df['K conc. (mg/kg)']\n"
   ]
  },
  {
   "cell_type": "code",
   "execution_count": 5,
   "id": "de9500d9",
   "metadata": {},
   "outputs": [],
   "source": [
    "X_train, X_test, y_train, y_test = train_test_split(\n",
    "    X, Y, test_size=0.4, random_state=42)\n",
    "\n",
    "X_train, X_test, y1_train, y1_test = train_test_split(\n",
    "    X, Y1, test_size=0.4, random_state=42)\n",
    "\n",
    "X_train, X_test, y2_train, y2_test = train_test_split(\n",
    "    X, Y2, test_size=0.4, random_state=42)\n",
    "\n",
    "X_train_scaled = scaler.fit_transform(X_train)\n",
    "X_test_scaled = scaler.fit_transform(X_test)\n",
    "\n",
    "# print(y1_train.isnull().values.any())"
   ]
  },
  {
   "cell_type": "code",
   "execution_count": 6,
   "id": "f058e077",
   "metadata": {},
   "outputs": [
    {
     "data": {
      "image/png": "[encoded data removed]",
      "text/plain": [
       "<Figure size 640x480 with 1 Axes>"
      ]
     },
     "metadata": {},
     "output_type": "display_data"
    }
   ],
   "source": [
    "from sklearn.decomposition import PCA\n",
    "import matplotlib.pyplot as plt\n",
    "\n",
    "pca = PCA()\n",
    "pca.fit(X_train_scaled)\n",
    "cumsum = np.cumsum(pca.explained_variance_ratio_)\n",
    "d = np.argmax(cumsum >= 0.95) + 1\n",
    "plt.plot(np.cumsum(pca.explained_variance_ratio_))\n",
    "plt.xlabel('number of components')\n",
    "plt.ylabel('cumulative explained variance')\n",
    "\n",
    "num_components = 20\n",
    "pca = PCA(n_components=num_components)\n",
    "\n",
    "X_train_pca = pca.fit_transform(X_train_scaled)\n",
    "X_test_pca = pca.transform(X_test_scaled)"
   ]
  },
  {
   "cell_type": "code",
   "execution_count": 7,
   "id": "615a6d3a",
   "metadata": {},
   "outputs": [
    {
     "data": {
      "text/plain": [
       "{'C': 1, 'epsilon': 0.5, 'kernel': 'linear'}"
      ]
     },
     "execution_count": 7,
     "metadata": {},
     "output_type": "execute_result"
    }
   ],
   "source": [
    "random_grid = {'C': [1,10,100],\n",
    "               'kernel':['linear', 'poly', 'rbf', 'sigmoid'],\n",
    "               'epsilon': [0.01, 0.5]}\n",
    "grid_svr_performance = GridSearchCV(SVR(), param_grid = random_grid, scoring = 'r2', cv=5)\n",
    "grid_svr_performance.fit(X_train_pca, y2_train)\n",
    "grid_svr_performance.best_params_"
   ]
  },
  {
   "cell_type": "code",
   "execution_count": 8,
   "id": "315a87cf",
   "metadata": {},
   "outputs": [
    {
     "data": {
      "text/plain": [
       "{'C': 1, 'epsilon': 0.01, 'kernel': 'linear'}"
      ]
     },
     "execution_count": 8,
     "metadata": {},
     "output_type": "execute_result"
    }
   ],
   "source": [
    "random_grid = {'C': [1,10,100],\n",
    "               'kernel':['linear', 'poly', 'rbf', 'sigmoid'],\n",
    "               'epsilon': [0.01, 0.5]}\n",
    "grid_svr_performance = GridSearchCV(SVR(), param_grid = random_grid, scoring = 'r2', cv=5)\n",
    "grid_svr_performance.fit(X_train_pca, y1_train)\n",
    "grid_svr_performance.best_params_"
   ]
  },
  {
   "cell_type": "code",
   "execution_count": 9,
   "id": "7d953385",
   "metadata": {},
   "outputs": [
    {
     "data": {
      "text/plain": [
       "{'C': 1, 'epsilon': 0.01, 'kernel': 'sigmoid'}"
      ]
     },
     "execution_count": 9,
     "metadata": {},
     "output_type": "execute_result"
    }
   ],
   "source": [
    "random_grid = {'C': [1,10,100],\n",
    "               'kernel':['linear', 'poly', 'rbf', 'sigmoid'],\n",
    "               'epsilon': [0.01, 0.5]}\n",
    "grid_svr_performance = GridSearchCV(SVR(), param_grid = random_grid, scoring = 'r2', cv=5)\n",
    "grid_svr_performance.fit(X_train_pca, y_train)\n",
    "grid_svr_performance.best_params_"
   ]
  },
  {
   "cell_type": "code",
   "execution_count": 10,
   "id": "5bb818ae",
   "metadata": {},
   "outputs": [
    {
     "data": {
      "text/html": [
       "<style>#sk-container-id-1 {color: black;}#sk-container-id-1 pre{padding: 0;}#sk-container-id-1 div.sk-toggleable {background-color: white;}#sk-container-id-1 label.sk-toggleable__label {cursor: pointer;display: block;width: 100%;margin-bottom: 0;padding: 0.3em;box-sizing: border-box;text-align: center;}#sk-container-id-1 label.sk-toggleable__label-arrow:before {content: \"▸\";float: left;margin-right: 0.25em;color: #696969;}#sk-container-id-1 label.sk-toggleable__label-arrow:hover:before {color: black;}#sk-container-id-1 div.sk-estimator:hover label.sk-toggleable__label-arrow:before {color: black;}#sk-container-id-1 div.sk-toggleable__content {max-height: 0;max-width: 0;overflow: hidden;text-align: left;background-color: #f0f8ff;}#sk-container-id-1 div.sk-toggleable__content pre {margin: 0.2em;color: black;border-radius: 0.25em;background-color: #f0f8ff;}#sk-container-id-1 input.sk-toggleable__control:checked~div.sk-toggleable__content {max-height: 200px;max-width: 100%;overflow: auto;}#sk-container-id-1 input.sk-toggleable__control:checked~label.sk-toggleable__label-arrow:before {content: \"▾\";}#sk-container-id-1 div.sk-estimator input.sk-toggleable__control:checked~label.sk-toggleable__label {background-color: #d4ebff;}#sk-container-id-1 div.sk-label input.sk-toggleable__control:checked~label.sk-toggleable__label {background-color: #d4ebff;}#sk-container-id-1 input.sk-hidden--visually {border: 0;clip: rect(1px 1px 1px 1px);clip: rect(1px, 1px, 1px, 1px);height: 1px;margin: -1px;overflow: hidden;padding: 0;position: absolute;width: 1px;}#sk-container-id-1 div.sk-estimator {font-family: monospace;background-color: #f0f8ff;border: 1px dotted black;border-radius: 0.25em;box-sizing: border-box;margin-bottom: 0.5em;}#sk-container-id-1 div.sk-estimator:hover {background-color: #d4ebff;}#sk-container-id-1 div.sk-parallel-item::after {content: \"\";width: 100%;border-bottom: 1px solid gray;flex-grow: 1;}#sk-container-id-1 div.sk-label:hover label.sk-toggleable__label {background-color: #d4ebff;}#sk-container-id-1 div.sk-serial::before {content: \"\";position: absolute;border-left: 1px solid gray;box-sizing: border-box;top: 0;bottom: 0;left: 50%;z-index: 0;}#sk-container-id-1 div.sk-serial {display: flex;flex-direction: column;align-items: center;background-color: white;padding-right: 0.2em;padding-left: 0.2em;position: relative;}#sk-container-id-1 div.sk-item {position: relative;z-index: 1;}#sk-container-id-1 div.sk-parallel {display: flex;align-items: stretch;justify-content: center;background-color: white;position: relative;}#sk-container-id-1 div.sk-item::before, #sk-container-id-1 div.sk-parallel-item::before {content: \"\";position: absolute;border-left: 1px solid gray;box-sizing: border-box;top: 0;bottom: 0;left: 50%;z-index: -1;}#sk-container-id-1 div.sk-parallel-item {display: flex;flex-direction: column;z-index: 1;position: relative;background-color: white;}#sk-container-id-1 div.sk-parallel-item:first-child::after {align-self: flex-end;width: 50%;}#sk-container-id-1 div.sk-parallel-item:last-child::after {align-self: flex-start;width: 50%;}#sk-container-id-1 div.sk-parallel-item:only-child::after {width: 0;}#sk-container-id-1 div.sk-dashed-wrapped {border: 1px dashed gray;margin: 0 0.4em 0.5em 0.4em;box-sizing: border-box;padding-bottom: 0.4em;background-color: white;}#sk-container-id-1 div.sk-label label {font-family: monospace;font-weight: bold;display: inline-block;line-height: 1.2em;}#sk-container-id-1 div.sk-label-container {text-align: center;}#sk-container-id-1 div.sk-container {/* jupyter's `normalize.less` sets `[hidden] { display: none; }` but bootstrap.min.css set `[hidden] { display: none !important; }` so we also need the `!important` here to be able to override the default hidden behavior on the sphinx rendered scikit-learn.org. See: https://github.com/scikit-learn/scikit-learn/issues/21755 */display: inline-block !important;position: relative;}#sk-container-id-1 div.sk-text-repr-fallback {display: none;}</style><div id=\"sk-container-id-1\" class=\"sk-top-container\"><div class=\"sk-text-repr-fallback\"><pre>SVR(C=10, gamma=0.2)</pre><b>In a Jupyter environment, please rerun this cell to show the HTML representation or trust the notebook. <br />On GitHub, the HTML representation is unable to render, please try loading this page with nbviewer.org.</b></div><div class=\"sk-container\" hidden><div class=\"sk-item\"><div class=\"sk-estimator sk-toggleable\"><input class=\"sk-toggleable__control sk-hidden--visually\" id=\"sk-estimator-id-1\" type=\"checkbox\" checked><label for=\"sk-estimator-id-1\" class=\"sk-toggleable__label sk-toggleable__label-arrow\">SVR</label><div class=\"sk-toggleable__content\"><pre>SVR(C=10, gamma=0.2)</pre></div></div></div></div></div>"
      ],
      "text/plain": [
       "SVR(C=10, gamma=0.2)"
      ]
     },
     "execution_count": 10,
     "metadata": {},
     "output_type": "execute_result"
    }
   ],
   "source": [
    "model = SVR(C= 10, gamma= 0.2, kernel= 'rbf')\n",
    "model.fit(X_train_pca,y_train)"
   ]
  },
  {
   "cell_type": "code",
   "execution_count": 11,
   "id": "c40e9bc8",
   "metadata": {},
   "outputs": [
    {
     "data": {
      "text/html": [
       "<style>#sk-container-id-2 {color: black;}#sk-container-id-2 pre{padding: 0;}#sk-container-id-2 div.sk-toggleable {background-color: white;}#sk-container-id-2 label.sk-toggleable__label {cursor: pointer;display: block;width: 100%;margin-bottom: 0;padding: 0.3em;box-sizing: border-box;text-align: center;}#sk-container-id-2 label.sk-toggleable__label-arrow:before {content: \"▸\";float: left;margin-right: 0.25em;color: #696969;}#sk-container-id-2 label.sk-toggleable__label-arrow:hover:before {color: black;}#sk-container-id-2 div.sk-estimator:hover label.sk-toggleable__label-arrow:before {color: black;}#sk-container-id-2 div.sk-toggleable__content {max-height: 0;max-width: 0;overflow: hidden;text-align: left;background-color: #f0f8ff;}#sk-container-id-2 div.sk-toggleable__content pre {margin: 0.2em;color: black;border-radius: 0.25em;background-color: #f0f8ff;}#sk-container-id-2 input.sk-toggleable__control:checked~div.sk-toggleable__content {max-height: 200px;max-width: 100%;overflow: auto;}#sk-container-id-2 input.sk-toggleable__control:checked~label.sk-toggleable__label-arrow:before {content: \"▾\";}#sk-container-id-2 div.sk-estimator input.sk-toggleable__control:checked~label.sk-toggleable__label {background-color: #d4ebff;}#sk-container-id-2 div.sk-label input.sk-toggleable__control:checked~label.sk-toggleable__label {background-color: #d4ebff;}#sk-container-id-2 input.sk-hidden--visually {border: 0;clip: rect(1px 1px 1px 1px);clip: rect(1px, 1px, 1px, 1px);height: 1px;margin: -1px;overflow: hidden;padding: 0;position: absolute;width: 1px;}#sk-container-id-2 div.sk-estimator {font-family: monospace;background-color: #f0f8ff;border: 1px dotted black;border-radius: 0.25em;box-sizing: border-box;margin-bottom: 0.5em;}#sk-container-id-2 div.sk-estimator:hover {background-color: #d4ebff;}#sk-container-id-2 div.sk-parallel-item::after {content: \"\";width: 100%;border-bottom: 1px solid gray;flex-grow: 1;}#sk-container-id-2 div.sk-label:hover label.sk-toggleable__label {background-color: #d4ebff;}#sk-container-id-2 div.sk-serial::before {content: \"\";position: absolute;border-left: 1px solid gray;box-sizing: border-box;top: 0;bottom: 0;left: 50%;z-index: 0;}#sk-container-id-2 div.sk-serial {display: flex;flex-direction: column;align-items: center;background-color: white;padding-right: 0.2em;padding-left: 0.2em;position: relative;}#sk-container-id-2 div.sk-item {position: relative;z-index: 1;}#sk-container-id-2 div.sk-parallel {display: flex;align-items: stretch;justify-content: center;background-color: white;position: relative;}#sk-container-id-2 div.sk-item::before, #sk-container-id-2 div.sk-parallel-item::before {content: \"\";position: absolute;border-left: 1px solid gray;box-sizing: border-box;top: 0;bottom: 0;left: 50%;z-index: -1;}#sk-container-id-2 div.sk-parallel-item {display: flex;flex-direction: column;z-index: 1;position: relative;background-color: white;}#sk-container-id-2 div.sk-parallel-item:first-child::after {align-self: flex-end;width: 50%;}#sk-container-id-2 div.sk-parallel-item:last-child::after {align-self: flex-start;width: 50%;}#sk-container-id-2 div.sk-parallel-item:only-child::after {width: 0;}#sk-container-id-2 div.sk-dashed-wrapped {border: 1px dashed gray;margin: 0 0.4em 0.5em 0.4em;box-sizing: border-box;padding-bottom: 0.4em;background-color: white;}#sk-container-id-2 div.sk-label label {font-family: monospace;font-weight: bold;display: inline-block;line-height: 1.2em;}#sk-container-id-2 div.sk-label-container {text-align: center;}#sk-container-id-2 div.sk-container {/* jupyter's `normalize.less` sets `[hidden] { display: none; }` but bootstrap.min.css set `[hidden] { display: none !important; }` so we also need the `!important` here to be able to override the default hidden behavior on the sphinx rendered scikit-learn.org. See: https://github.com/scikit-learn/scikit-learn/issues/21755 */display: inline-block !important;position: relative;}#sk-container-id-2 div.sk-text-repr-fallback {display: none;}</style><div id=\"sk-container-id-2\" class=\"sk-top-container\"><div class=\"sk-text-repr-fallback\"><pre>SVR(C=10, gamma=0.1, kernel=&#x27;linear&#x27;)</pre><b>In a Jupyter environment, please rerun this cell to show the HTML representation or trust the notebook. <br />On GitHub, the HTML representation is unable to render, please try loading this page with nbviewer.org.</b></div><div class=\"sk-container\" hidden><div class=\"sk-item\"><div class=\"sk-estimator sk-toggleable\"><input class=\"sk-toggleable__control sk-hidden--visually\" id=\"sk-estimator-id-2\" type=\"checkbox\" checked><label for=\"sk-estimator-id-2\" class=\"sk-toggleable__label sk-toggleable__label-arrow\">SVR</label><div class=\"sk-toggleable__content\"><pre>SVR(C=10, gamma=0.1, kernel=&#x27;linear&#x27;)</pre></div></div></div></div></div>"
      ],
      "text/plain": [
       "SVR(C=10, gamma=0.1, kernel='linear')"
      ]
     },
     "execution_count": 11,
     "metadata": {},
     "output_type": "execute_result"
    }
   ],
   "source": [
    "model2 = SVR(C= 10, gamma= 0.1, kernel= 'linear')\n",
    "model2.fit(X_train_pca,y1_train)"
   ]
  },
  {
   "cell_type": "code",
   "execution_count": 12,
   "id": "6f46da1a",
   "metadata": {},
   "outputs": [
    {
     "data": {
      "text/html": [
       "<style>#sk-container-id-3 {color: black;}#sk-container-id-3 pre{padding: 0;}#sk-container-id-3 div.sk-toggleable {background-color: white;}#sk-container-id-3 label.sk-toggleable__label {cursor: pointer;display: block;width: 100%;margin-bottom: 0;padding: 0.3em;box-sizing: border-box;text-align: center;}#sk-container-id-3 label.sk-toggleable__label-arrow:before {content: \"▸\";float: left;margin-right: 0.25em;color: #696969;}#sk-container-id-3 label.sk-toggleable__label-arrow:hover:before {color: black;}#sk-container-id-3 div.sk-estimator:hover label.sk-toggleable__label-arrow:before {color: black;}#sk-container-id-3 div.sk-toggleable__content {max-height: 0;max-width: 0;overflow: hidden;text-align: left;background-color: #f0f8ff;}#sk-container-id-3 div.sk-toggleable__content pre {margin: 0.2em;color: black;border-radius: 0.25em;background-color: #f0f8ff;}#sk-container-id-3 input.sk-toggleable__control:checked~div.sk-toggleable__content {max-height: 200px;max-width: 100%;overflow: auto;}#sk-container-id-3 input.sk-toggleable__control:checked~label.sk-toggleable__label-arrow:before {content: \"▾\";}#sk-container-id-3 div.sk-estimator input.sk-toggleable__control:checked~label.sk-toggleable__label {background-color: #d4ebff;}#sk-container-id-3 div.sk-label input.sk-toggleable__control:checked~label.sk-toggleable__label {background-color: #d4ebff;}#sk-container-id-3 input.sk-hidden--visually {border: 0;clip: rect(1px 1px 1px 1px);clip: rect(1px, 1px, 1px, 1px);height: 1px;margin: -1px;overflow: hidden;padding: 0;position: absolute;width: 1px;}#sk-container-id-3 div.sk-estimator {font-family: monospace;background-color: #f0f8ff;border: 1px dotted black;border-radius: 0.25em;box-sizing: border-box;margin-bottom: 0.5em;}#sk-container-id-3 div.sk-estimator:hover {background-color: #d4ebff;}#sk-container-id-3 div.sk-parallel-item::after {content: \"\";width: 100%;border-bottom: 1px solid gray;flex-grow: 1;}#sk-container-id-3 div.sk-label:hover label.sk-toggleable__label {background-color: #d4ebff;}#sk-container-id-3 div.sk-serial::before {content: \"\";position: absolute;border-left: 1px solid gray;box-sizing: border-box;top: 0;bottom: 0;left: 50%;z-index: 0;}#sk-container-id-3 div.sk-serial {display: flex;flex-direction: column;align-items: center;background-color: white;padding-right: 0.2em;padding-left: 0.2em;position: relative;}#sk-container-id-3 div.sk-item {position: relative;z-index: 1;}#sk-container-id-3 div.sk-parallel {display: flex;align-items: stretch;justify-content: center;background-color: white;position: relative;}#sk-container-id-3 div.sk-item::before, #sk-container-id-3 div.sk-parallel-item::before {content: \"\";position: absolute;border-left: 1px solid gray;box-sizing: border-box;top: 0;bottom: 0;left: 50%;z-index: -1;}#sk-container-id-3 div.sk-parallel-item {display: flex;flex-direction: column;z-index: 1;position: relative;background-color: white;}#sk-container-id-3 div.sk-parallel-item:first-child::after {align-self: flex-end;width: 50%;}#sk-container-id-3 div.sk-parallel-item:last-child::after {align-self: flex-start;width: 50%;}#sk-container-id-3 div.sk-parallel-item:only-child::after {width: 0;}#sk-container-id-3 div.sk-dashed-wrapped {border: 1px dashed gray;margin: 0 0.4em 0.5em 0.4em;box-sizing: border-box;padding-bottom: 0.4em;background-color: white;}#sk-container-id-3 div.sk-label label {font-family: monospace;font-weight: bold;display: inline-block;line-height: 1.2em;}#sk-container-id-3 div.sk-label-container {text-align: center;}#sk-container-id-3 div.sk-container {/* jupyter's `normalize.less` sets `[hidden] { display: none; }` but bootstrap.min.css set `[hidden] { display: none !important; }` so we also need the `!important` here to be able to override the default hidden behavior on the sphinx rendered scikit-learn.org. See: https://github.com/scikit-learn/scikit-learn/issues/21755 */display: inline-block !important;position: relative;}#sk-container-id-3 div.sk-text-repr-fallback {display: none;}</style><div id=\"sk-container-id-3\" class=\"sk-top-container\"><div class=\"sk-text-repr-fallback\"><pre>SVR(C=1, gamma=0.1, kernel=&#x27;linear&#x27;)</pre><b>In a Jupyter environment, please rerun this cell to show the HTML representation or trust the notebook. <br />On GitHub, the HTML representation is unable to render, please try loading this page with nbviewer.org.</b></div><div class=\"sk-container\" hidden><div class=\"sk-item\"><div class=\"sk-estimator sk-toggleable\"><input class=\"sk-toggleable__control sk-hidden--visually\" id=\"sk-estimator-id-3\" type=\"checkbox\" checked><label for=\"sk-estimator-id-3\" class=\"sk-toggleable__label sk-toggleable__label-arrow\">SVR</label><div class=\"sk-toggleable__content\"><pre>SVR(C=1, gamma=0.1, kernel=&#x27;linear&#x27;)</pre></div></div></div></div></div>"
      ],
      "text/plain": [
       "SVR(C=1, gamma=0.1, kernel='linear')"
      ]
     },
     "execution_count": 12,
     "metadata": {},
     "output_type": "execute_result"
    }
   ],
   "source": [
    "model3 = SVR(C= 1, gamma= 0.1, kernel= 'linear')\n",
    "model3.fit(X_train_pca,y2_train)"
   ]
  },
  {
   "cell_type": "code",
   "execution_count": 13,
   "id": "1c17d57e",
   "metadata": {},
   "outputs": [],
   "source": [
    "predictions = model.predict(X_test_pca)\n",
    "predictions1 = model2.predict(X_test_pca)\n",
    "predictions2 = model3.predict(X_test_pca)"
   ]
  },
  {
   "cell_type": "code",
   "execution_count": 14,
   "id": "738145e2",
   "metadata": {},
   "outputs": [
    {
     "name": "stdout",
     "output_type": "stream",
     "text": [
      "R square of Chlorophyll-a:  -0.0795036306278718\n",
      "R square of P:  -0.012110123436639864\n",
      "R square of K:  -0.10650076176877632\n",
      "Mean squared error of Chlorophyll-a:  9.239589236704388\n",
      "Mean squared error of P:  692589.3274054085\n",
      "Mean squared error of K:  117315720.00865781\n"
     ]
    }
   ],
   "source": [
    "chlo_score = r2_score(y_test, predictions)\n",
    "chlor_mean_err = mean_squared_error(y_test, predictions)\n",
    "\n",
    "p_score = r2_score(y1_test, predictions1)\n",
    "p_mean_err = mean_squared_error(y1_test, predictions1)\n",
    "\n",
    "k_score = r2_score(y2_test, predictions2)\n",
    "k_mean_err = mean_squared_error(y2_test, predictions2)\n",
    "\n",
    "log_data.append(\"R square of Chlorophyll-a: \" +str(chlo_score))\n",
    "log_data.append(\"R square of P: \" + str(p_score))\n",
    "log_data.append(\"R square of K: \" + str(k_score))\n",
    "log_data.append(\"Mean squared error of Chlorophyll-a: \" +str(chlor_mean_err))\n",
    "log_data.append(\"Mean squared error of P: \" +str(p_mean_err))\n",
    "log_data.append(\"Mean squared error of K: \" +str(k_mean_err))\n",
    "\n",
    "print('R square of Chlorophyll-a: ', chlo_score,)\n",
    "print('R square of P: ', p_score,)\n",
    "print('R square of K: ', k_score,)\n",
    "print('Mean squared error of Chlorophyll-a: ', chlor_mean_err,)\n",
    "print('Mean squared error of P: ', p_mean_err,)\n",
    "print('Mean squared error of K: ', k_mean_err,)\n",
    "\n"
   ]
  },
  {
   "cell_type": "code",
   "execution_count": 15,
   "id": "1143eb7d",
   "metadata": {},
   "outputs": [],
   "source": [
    "def mape(y_test, pred):\n",
    "    y_test, pred = np.array(y_test), np.array(pred)\n",
    "    mape = np.mean(np.abs((y_test - pred) / y_test))\n",
    "    return mape"
   ]
  },
  {
   "cell_type": "code",
   "execution_count": 16,
   "id": "e923993d",
   "metadata": {},
   "outputs": [
    {
     "name": "stdout",
     "output_type": "stream",
     "text": [
      "Mean absolute percentage error of Chlorophyll-a:  0.05713383288873421\n",
      "Mean absolute percentage error of P:  0.1976211516133974\n",
      "Mean absolute percentage error of K:  0.3200527383512043\n"
     ]
    }
   ],
   "source": [
    "chlo_mean_abs_err = mape(y_test, predictions)\n",
    "p_mean_abs_err = mape(y1_test, predictions1)\n",
    "k_mean_abs_err = mape(y2_test, predictions2)\n",
    "log_data.append(\"Mean absolute percentage error of Chlorophyll-a: \" +str(chlo_mean_abs_err))\n",
    "log_data.append(\"Mean absolute percentage error of P: \" +str(p_mean_abs_err))\n",
    "log_data.append(\"Mean absolute percentage error of K: \" +str(k_mean_abs_err))\n",
    "\n",
    "\n",
    "print('Mean absolute percentage error of Chlorophyll-a: ', chlo_mean_abs_err)\n",
    "print('Mean absolute percentage error of P: ', p_mean_abs_err)\n",
    "print('Mean absolute percentage error of K: ', k_mean_abs_err)"
   ]
  },
  {
   "cell_type": "code",
   "execution_count": 17,
   "id": "be52cb4a",
   "metadata": {},
   "outputs": [],
   "source": [
    "from csv import writer\n",
    "\n",
    "csv_data = log_data[:3]\n",
    "\n",
    "for i in log_data[3:]:\n",
    "    i = i.split(\": \")[1]\n",
    "    csv_data.append(i)\n",
    "    \n",
    "with open('result.csv', 'a') as file:\n",
    "    csvWriter = writer(file ,delimiter=',')\n",
    "    csvWriter.writerow(csv_data)\n",
    "    file.close()\n",
    "\n",
    "log(log_data)"
   ]
  },
  {
   "cell_type": "code",
   "execution_count": null,
   "id": "cd780a7c",
   "metadata": {},
   "outputs": [],
   "source": [
    "from csv import writer\n",
    "\n",
    "csv_data = log_data[:3]\n",
    "\n",
    "for i in log_data[3:]:\n",
    "    i = i.split(\": \")[1]\n",
    "    csv_data.append(i)\n",
    "    \n",
    "with open('result.csv', 'a') as file:\n",
    "    csvWriter = writer(file ,delimiter=',')\n",
    "    csvWriter.writerow(csv_data)\n",
    "    file.close()\n",
    "\n",
    "log(log_data)"
   ]
  }
 ],
 "metadata": {
  "kernelspec": {
   "display_name": "Python 3 (ipykernel)",
   "language": "python",
   "name": "python3"
  }
 },
 "nbformat": 4,
 "nbformat_minor": 5
}
